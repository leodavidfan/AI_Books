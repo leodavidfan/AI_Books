{
  "nbformat": 4,
  "nbformat_minor": 0,
  "metadata": {
    "colab": {
      "provenance": [],
      "include_colab_link": true
    },
    "kernelspec": {
      "name": "python3",
      "display_name": "Python 3"
    },
    "language_info": {
      "name": "python"
    }
  },
  "cells": [
    {
      "cell_type": "markdown",
      "metadata": {
        "id": "view-in-github",
        "colab_type": "text"
      },
      "source": [
        "<a href=\"https://colab.research.google.com/github/leodavidfan/AI_Books/blob/main/MonteCarlo.ipynb\" target=\"_parent\"><img src=\"https://colab.research.google.com/assets/colab-badge.svg\" alt=\"Open In Colab\"/></a>"
      ]
    },
    {
      "cell_type": "markdown",
      "source": [
        "### Monte Carlo Simulation"
      ],
      "metadata": {
        "id": "blmmBqgrqnni"
      }
    },
    {
      "cell_type": "code",
      "source": [
        "import numpy as np\n",
        "import math\n",
        "\n",
        "def estimate_pi_single(num_points=1_000_000):\n",
        "    \"\"\"\n",
        "    Estimate the value of pi using a single Monte Carlo trial.\n",
        "    Generates points in a unit square and counts how many lie\n",
        "    inside the quarter circle x^2 + y^2 <= 1.\n",
        "    \"\"\"\n",
        "    # Generate arrays of random x and y coordinates in [0, 1)\n",
        "    x = np.random.rand(num_points)\n",
        "    y = np.random.rand(num_points)\n",
        "\n",
        "    # Compute how many points fall inside the quarter circle\n",
        "    r_squared = x**2 + y**2\n",
        "    inside_circle = np.count_nonzero(r_squared <= 1.0)\n",
        "\n",
        "    # Estimate pi using the ratio inside_circle/total_points = pi/4\n",
        "    pi_estimate = 4.0 * inside_circle / num_points\n",
        "    return pi_estimate\n",
        "\n",
        "def estimate_pi_multiple(num_points=1_000_000, trials=10):\n",
        "    \"\"\"\n",
        "    Run multiple Monte Carlo trials to estimate pi and compute a\n",
        "    simple 95% confidence interval.\n",
        "    \"\"\"\n",
        "    estimates = []\n",
        "    for _ in range(trials):\n",
        "        pi_est = estimate_pi_single(num_points)\n",
        "        estimates.append(pi_est)\n",
        "\n",
        "    # Calculate the mean and standard deviation of estimates\n",
        "    mean_est = np.mean(estimates)\n",
        "    std_est = np.std(estimates, ddof=1)  # Sample std with (N-1) denominator\n",
        "\n",
        "    # 95% confidence interval via ~ 1.96 * (std / sqrt(n))\n",
        "    # For large trials, the distribution of the mean is approximately normal\n",
        "    ci_95 = 1.96 * std_est / np.sqrt(trials)\n",
        "\n",
        "    return mean_est, ci_95\n",
        "\n",
        "if __name__ == \"__main__\":\n",
        "    # Number of random points per trial\n",
        "    n_points = 1_000_000\n",
        "\n",
        "    # Number of trials\n",
        "    n_trials = 10\n",
        "\n",
        "    mean_pi, ci_95 = estimate_pi_multiple(num_points=n_points, trials=n_trials)\n",
        "\n",
        "    print(f\"After {n_trials} trials of {n_points} points each:\")\n",
        "    print(f\"  Mean pi estimate       = {mean_pi:.6f}\")\n",
        "    print(f\"  95% Confidence Interval = [{mean_pi - ci_95:.6f}, {mean_pi + ci_95:.6f}]\")\n",
        "    print(f\"  Actual math.pi         = {math.pi:.6f}\")\n"
      ],
      "metadata": {
        "colab": {
          "base_uri": "https://localhost:8080/"
        },
        "id": "O9a_JEkOqw6l",
        "outputId": "97674cdc-8ab2-46b2-ad87-9e23e5d344ed"
      },
      "execution_count": null,
      "outputs": [
        {
          "output_type": "stream",
          "name": "stdout",
          "text": [
            "After 10 trials of 1000000 points each:\n",
            "  Mean pi estimate       = 3.140636\n",
            "  95% Confidence Interval = [3.139055, 3.142217]\n",
            "  Actual math.pi         = 3.141593\n"
          ]
        }
      ]
    }
  ]
}