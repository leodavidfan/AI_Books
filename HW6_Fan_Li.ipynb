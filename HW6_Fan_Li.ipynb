{
  "nbformat": 4,
  "nbformat_minor": 0,
  "metadata": {
    "colab": {
      "provenance": [],
      "authorship_tag": "ABX9TyM9hFvIJ6QO5cAz/5Kz0pow",
      "include_colab_link": true
    },
    "kernelspec": {
      "name": "python3",
      "display_name": "Python 3"
    },
    "language_info": {
      "name": "python"
    }
  },
  "cells": [
    {
      "cell_type": "markdown",
      "metadata": {
        "id": "view-in-github",
        "colab_type": "text"
      },
      "source": [
        "<a href=\"https://colab.research.google.com/github/leodavidfan/AI_Books/blob/main/HW6_Fan_Li.ipynb\" target=\"_parent\"><img src=\"https://colab.research.google.com/assets/colab-badge.svg\" alt=\"Open In Colab\"/></a>"
      ]
    },
    {
      "cell_type": "markdown",
      "source": [
        "**Assignment 6: Discrete Probability Distributions in Machine Learning**"
      ],
      "metadata": {
        "id": "bPPUAzLYdcwM"
      }
    },
    {
      "cell_type": "markdown",
      "source": [
        "**Q1. Expected Value and Variance (10 points)\n",
        "A data scientist is analyzing user behavior on a website. Each user’s session can be modeled\n",
        "as follows:\n",
        "• 60% chance of viewing only one page\n",
        "• 30% chance of viewing two pages\n",
        "• 10% chance of viewing three pages\n",
        "(a) Define the random variable and its probability mass function\n",
        "(b) Calculate the expected number of pages viewed per session\n",
        "(c) Calculate the variance in the number of pages viewed\n",
        "(d) Explain what these metrics tell us about user behavior**"
      ],
      "metadata": {
        "id": "iGe3Gb-udlTc"
      }
    },
    {
      "cell_type": "markdown",
      "source": [
        "**(a) Define the random variable and its probability mass function**"
      ],
      "metadata": {
        "id": "8YGALzdUDYuS"
      }
    },
    {
      "cell_type": "code",
      "source": [
        "P_X1 = 0.60\n",
        "P_X2 = 0.30\n",
        "P_X3 = 0.10"
      ],
      "metadata": {
        "id": "oS7WO6B4DuVA"
      },
      "execution_count": 13,
      "outputs": []
    },
    {
      "cell_type": "markdown",
      "source": [
        "**(b) Calculate the expected number of pages viewed per session**"
      ],
      "metadata": {
        "id": "LAq2Omh9Ddzv"
      }
    },
    {
      "cell_type": "code",
      "source": [
        "E_X = 1*P_X1 + 2*P_X2 + 3*P_X3\n",
        "print('mean: ', E_X)"
      ],
      "metadata": {
        "colab": {
          "base_uri": "https://localhost:8080/"
        },
        "id": "ZnRrOljiDu7_",
        "outputId": "f8788b33-afc0-4808-82fa-4d47c602531d"
      },
      "execution_count": 14,
      "outputs": [
        {
          "output_type": "stream",
          "name": "stdout",
          "text": [
            "mean:  1.5\n"
          ]
        }
      ]
    },
    {
      "cell_type": "markdown",
      "source": [
        "**(c) Calculate the variance in the number of pages viewed**"
      ],
      "metadata": {
        "id": "CarTKqBNDiDI"
      }
    },
    {
      "cell_type": "code",
      "source": [
        "E_X2 = 1**2*P_X1 + 2**2*P_X2 + 3**2*P_X3\n",
        "VAR_X = E_X2 - E_X**2\n",
        "print(\"variance:\", VAR_X)"
      ],
      "metadata": {
        "colab": {
          "base_uri": "https://localhost:8080/"
        },
        "id": "rMKMV4GoDwog",
        "outputId": "9ecc8e79-4f5b-431d-c15a-f63680e118b3"
      },
      "execution_count": 15,
      "outputs": [
        {
          "output_type": "stream",
          "name": "stdout",
          "text": [
            "variance: 0.44999999999999973\n"
          ]
        }
      ]
    },
    {
      "cell_type": "markdown",
      "source": [
        "**(d) Explain what these metrics tell us about user behavior**"
      ],
      "metadata": {
        "id": "FrDbq1CBDo_J"
      }
    },
    {
      "cell_type": "markdown",
      "source": [
        "**• The average user views 1.5 pages per session, indicating most users do not explore deeply into the website.**\n",
        "\n",
        "Correct\n",
        "Reason:\n",
        "1. According to data from Littledata, the average \"user view per session\" (also known as \"pages per session\") is around 2.6 pages per session\n",
        "\n",
        "\n",
        "**• The relatively small variance (0.45) suggests that user behavior is fairly consistent.**\n",
        "\n",
        "Correct.\n",
        "Reason:\n",
        "1. 0.45 is relatively small value for variance\n",
        "\n",
        "\n",
        "**• The distribution is right-skewed, with a small percentage of users viewing more pages.**\n",
        "\n",
        "Correct.\n",
        "Reason:\n",
        "1. Right-skewed Distribution: When the distribution has a long tail towards the right side, then it is known as a right-skewed or positive-skewed distribution.\n",
        "2. P(X=1)=0.6 > P(X=2)=0.3 > P(X=3)=0.1, long tail\n",
        "\n"
      ],
      "metadata": {
        "id": "6Ah_Rtjuhmxn"
      }
    },
    {
      "cell_type": "markdown",
      "source": [
        "**Q2. Bernoulli Distribution in A/B Testing (25 points)\n",
        "You’re running an A/B test for a new website design. The current design has a conversion\n",
        "rate of 12%.\n",
        "(a) Model this as a Bernoulli distribution and write its PMF (5 points)\n",
        "(b) If you observe 1000 visitors, what’s the expected number of conversions? (5 points)\n",
        "(c) What’s the variance in the number of conversions? (5 points)\n",
        "(d) Write a Python function that simulates this experiment 1000 times and plots the\n",
        "distribution of results (10 points)**"
      ],
      "metadata": {
        "id": "D6Vicp3Hi_o1"
      }
    },
    {
      "cell_type": "markdown",
      "source": [
        "**(a) Model this as a Bernoulli distribution and write its PMF (5 points)**\n",
        "Wrong. This is not Bernoulli distribution, but a Binominal distribution, which represents p is the discrete successful rate in a sequence of n independent experiments, while bernoulli is the individual experiment with p is the discrete successful rate for yes and no decisions.\n",
        "\n",
        "\n",
        "**(b) If you observe 1000 visitors, what’s the expected number of conversions? (5 points)**\n",
        "The expected number of conversion is the expected value. From simulation, Mean conversions: 119.19. From hand calculation, Mean conversions: n*p = 1,000 * 12% = 120. The discrepancy is introduced by computation.\n",
        "\n",
        "\n",
        "**(c) What’s the variance in the number of conversions? (5 points)**\n",
        "From hand calculation, the variance is n*p(1-p)=1,000*12%*(1-12%) = 1000*0.12*(1-0.12) = 105.6. From simulation, the variance is Variance conversions: 104.69, which is the square of std. The discrepancy is introduced by computation.\n",
        "\n",
        "\n",
        "**(d) Write a Python function that simulates this experiment 1000 times and plots the distribution of results (10 points)**\n",
        "Shown in the histgram plot.\n",
        "\n"
      ],
      "metadata": {
        "id": "OwNnotuW55Xw"
      }
    },
    {
      "cell_type": "code",
      "source": [
        "import numpy as np\n",
        "import matplotlib.pyplot as plt\n",
        "import seaborn as sns\n",
        "import random\n",
        "\n",
        "def simulate_ab_test(n_visitors=1000, conv_rate=0.12, n_simulations=1000):\n",
        "  # Set the seed value\n",
        "  np.random.seed(42)\n",
        "\n",
        "  # Run simulations\n",
        "  results = np.random.binomial(n=n_visitors, p=conv_rate, size=n_simulations)\n",
        "\n",
        "  # Plot distribution\n",
        "  plt.figure(figsize=(10, 6))\n",
        "\n",
        "  sns.histplot(results, stat='density', bins=30)\n",
        "  # Add normal approximation curve\n",
        "  x = np.linspace(results.min(), results.max(), 100)\n",
        "  y = np.exp(-(x - np.mean(results))**2 / (2 * np.var(results))) \\\n",
        "    / np.sqrt(2 * np.pi * np.var(results))\n",
        "  plt.plot(x, y, 'r-', label='Normal Approximation')\n",
        "\n",
        "  plt.title('Distribution of Conversion Counts')\n",
        "  plt.xlabel('Number of Conversions')\n",
        "  plt.ylabel('Density')\n",
        "  plt.legend()\n",
        "  plt.grid(True)\n",
        "  plt.show()\n",
        "\n",
        "  return results\n",
        "\n",
        "# Run simulation\n",
        "results = simulate_ab_test()\n",
        "print(f\"Mean conversions: {np.mean(results):.2f}\")\n",
        "print(f\"Standard deviation: {np.std(results):.2f}\")\n",
        "\n",
        "# added calculcation\n",
        "print(f\"Variance conversions: {np.std(results)**2:.2f}\")"
      ],
      "metadata": {
        "colab": {
          "base_uri": "https://localhost:8080/",
          "height": 616
        },
        "id": "OHh-xwx1jC4R",
        "outputId": "60fe934e-2284-4ad2-ca4e-12d4dee0960b"
      },
      "execution_count": 10,
      "outputs": [
        {
          "output_type": "display_data",
          "data": {
            "text/plain": [
              "<Figure size 1000x600 with 1 Axes>"
            ],
            "image/png": "[encoded data removed]"
          },
          "metadata": {}
        },
        {
          "output_type": "stream",
          "name": "stdout",
          "text": [
            "Mean conversions: 119.19\n",
            "Standard deviation: 10.23\n",
            "Variance conversions: 104.69\n"
          ]
        }
      ]
    },
    {
      "cell_type": "markdown",
      "source": [
        "**Q3. Binomial Distribution Application (25 points)\n",
        "A machine learning model correctly classifies emails as spam with 95% accuracy. You test\n",
        "it on a batch of 200 emails.\n",
        "(a) What distribution would you use to model the number of correct classifications? Justify\n",
        "your answer. (5 points)\n",
        "(b) Calculate the probability of getting exactly 190 correct classifications (5 points)\n",
        "(c) What’s the probability of getting 185 or more correct classifications? (10 points)\n",
        "(d) If you needed to guarantee 90% accuracy with 95% confidence, how many emails would\n",
        "you need to test? (5 points)**"
      ],
      "metadata": {
        "id": "cCjQ8ctNjazW"
      }
    },
    {
      "cell_type": "markdown",
      "source": [
        "**(a) What distribution would you use to model the number of correct classifications? Justify your answer. (5 points)**"
      ],
      "metadata": {
        "id": "nT3GIfqFEtSr"
      }
    },
    {
      "cell_type": "markdown",
      "source": [
        "Correct.\n",
        "Reason:\n",
        "\n",
        "The number of correct classifications follows a Binomial distribution:\n",
        "\n",
        "• Each email classification is a Bernoulli trial (success/failure)\n",
        "\n",
        "• There is a fixed number of trials (n = 200)\n",
        "\n",
        "• Trials are independent\n",
        "\n",
        "• The probability of success (p = 0:95) is constant"
      ],
      "metadata": {
        "id": "_hyJ98ZlFAnD"
      }
    },
    {
      "cell_type": "markdown",
      "source": [
        "**(b) Calculate the probability of getting exactly 190 correct classifications (5 points)**"
      ],
      "metadata": {
        "id": "hqGj4PpSEu1V"
      }
    },
    {
      "cell_type": "markdown",
      "source": [
        "From hand calculation, using the binomial PMF formula:\n",
        "![Q3b.png](data:image/png;base64,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)"
      ],
      "metadata": {
        "id": "8b2qIkOlHnTI"
      }
    },
    {
      "cell_type": "markdown",
      "source": [],
      "metadata": {
        "id": "4-NFyLegF9hu"
      }
    },
    {
      "cell_type": "code",
      "source": [
        "# method 1\n",
        "import math\n",
        "\n",
        "prob1 = math.comb(200, 190) * (0.95)**190 * (0.05)**10\n",
        "print(f\"P(X = 190) = {prob1:.4f}\")"
      ],
      "metadata": {
        "colab": {
          "base_uri": "https://localhost:8080/"
        },
        "id": "IfsL7PReIdFJ",
        "outputId": "0e48586c-a964-4ed4-f704-bc21bd2e2286"
      },
      "execution_count": 28,
      "outputs": [
        {
          "output_type": "stream",
          "name": "stdout",
          "text": [
            "P(X = 190) = 0.1284\n"
          ]
        }
      ]
    },
    {
      "cell_type": "code",
      "source": [
        "# method 2\n",
        "from scipy.stats import binom\n",
        "\n",
        "n, p = 200, 0.95\n",
        "k = 190\n",
        "prob = binom.pmf(k, n, p)\n",
        "print(f\"P(X = 190) = {prob:.4f}\")"
      ],
      "metadata": {
        "colab": {
          "base_uri": "https://localhost:8080/"
        },
        "id": "LQi6KEe3Fcyv",
        "outputId": "6db70ebb-80fd-4df5-94ec-714b36611d85"
      },
      "execution_count": 32,
      "outputs": [
        {
          "output_type": "stream",
          "name": "stdout",
          "text": [
            "P(X = 190) = 0.1284\n"
          ]
        }
      ]
    },
    {
      "cell_type": "markdown",
      "source": [
        "**(c) What’s the probability of getting 185 or more correct classifications? (10 points)**"
      ],
      "metadata": {
        "id": "PEvC7PLGEzVn"
      }
    },
    {
      "cell_type": "code",
      "source": [
        "prob = 1 - binom.cdf(184, n, p)\n",
        "print(f\"P(X >= 185) = {prob:.4f}\")"
      ],
      "metadata": {
        "colab": {
          "base_uri": "https://localhost:8080/"
        },
        "id": "En87yzAuI36F",
        "outputId": "0031ab48-9ca5-4871-df9a-b32ccad755c5"
      },
      "execution_count": 33,
      "outputs": [
        {
          "output_type": "stream",
          "name": "stdout",
          "text": [
            "P(X >= 185) = 0.9556\n"
          ]
        }
      ]
    },
    {
      "cell_type": "markdown",
      "source": [
        "**(d) If you needed to guarantee 90% accuracy with 95% confidence, how many emails would you need to test? (5 points)**"
      ],
      "metadata": {
        "id": "5BCf8MXfE2n4"
      }
    },
    {
      "cell_type": "code",
      "source": [
        "from scipy.stats import norm\n",
        "import numpy as np\n",
        "\n",
        "def find_sample_size(desired_accuracy=0.90, confidence=0.95, p=0.95):\n",
        "  z = norm.ppf((1 + confidence) / 2)\n",
        "  margin_error = 1 - desired_accuracy\n",
        "  n = (z**2 * p * (1-p)) / margin_error**2\n",
        "  return int(np.ceil(n))\n",
        "\n",
        "n = find_sample_size()\n",
        "print(f\"Required sample size: {n}\")"
      ],
      "metadata": {
        "colab": {
          "base_uri": "https://localhost:8080/"
        },
        "id": "LuRzbPoTJGHA",
        "outputId": "3062247a-5d3c-4505-a1cf-a63cd3779bb2"
      },
      "execution_count": 31,
      "outputs": [
        {
          "output_type": "stream",
          "name": "stdout",
          "text": [
            "Required sample size: 19\n"
          ]
        }
      ]
    },
    {
      "cell_type": "markdown",
      "source": [
        "**Q4. Poisson Distribution in Practice (30 points)\n",
        "A website receives an average of 8 API requests per minute.\n",
        "(a) Write the PMF for this scenario (5 points)\n",
        "(b) Calculate the probability of receiving:\n",
        "• Exactly 5 requests in a minute (5 points)\n",
        "• More than 10 requests in a minute (5 points)\n",
        "• No requests in a minute (5 points)\n",
        "(c) Write a Python function that:\n",
        "• Simulates request arrivals for 60 minutes\n",
        "• Plots the distribution of inter-arrival times\n",
        "• Compares the simulated distribution to the theoretical Poisson distribution (10\n",
        "points)**"
      ],
      "metadata": {
        "id": "N0ChSbT4jgaD"
      }
    },
    {
      "cell_type": "markdown",
      "source": [
        "**(a) Write the PMF for this scenario (5 points)**"
      ],
      "metadata": {
        "id": "EIrQkH51JloI"
      }
    },
    {
      "cell_type": "markdown",
      "source": [
        "**(b) Calculate the probability of receiving:\n",
        "• Exactly 5 requests in a minute (5 points)\n",
        "• More than 10 requests in a minute (5 points)• No requests in a minute (5 points)**"
      ],
      "metadata": {
        "id": "JdpvCzqkJomd"
      }
    },
    {
      "cell_type": "code",
      "source": [
        "from scipy.stats import poisson\n",
        "\n",
        "lambda_ = 8\n",
        "\n",
        "# Exactly 5 requests\n",
        "p_5 = poisson.pmf(5, lambda_)\n",
        "print(f\"P(X = 5) = {p_5:.4f}\") # 􀀀0.0916\n",
        "\n",
        "# More than 10 requests\n",
        "p_more_10 = 1 - poisson.cdf(10, lambda_)\n",
        "print(f\"P(X > 10) = {p_more_10:.4f}\") # 􀀀0.1912\n",
        "\n",
        "# No requests\n",
        "p_0 = poisson.pmf(0, lambda_)\n",
        "print(f\"P(X = 0) = {p_0:.4f}\") # 􀀀0.0003"
      ],
      "metadata": {
        "colab": {
          "base_uri": "https://localhost:8080/"
        },
        "id": "0C_xci4YK0JA",
        "outputId": "c63ea3bf-a07c-4f5f-e52b-9c31363f9e95"
      },
      "execution_count": 34,
      "outputs": [
        {
          "output_type": "stream",
          "name": "stdout",
          "text": [
            "P(X = 5) = 0.0916\n",
            "P(X > 10) = 0.1841\n",
            "P(X = 0) = 0.0003\n"
          ]
        }
      ]
    },
    {
      "cell_type": "markdown",
      "source": [
        "**(c) Write a Python function that: • Simulates request arrivals for 60 minutes • Plots the distribution of inter-arrival times • Compares the simulated distribution to the theoretical Poisson distribution (10 points)**"
      ],
      "metadata": {
        "id": "7iWjNf-UK_SL"
      }
    },
    {
      "cell_type": "code",
      "source": [
        "import numpy as np\n",
        "import matplotlib.pyplot as plt\n",
        "from scipy.stats import poisson\n",
        "\n",
        "def simulate_poisson_process(lambda_rate=8, duration=60):\n",
        "  # Generate inter-arrival times (exponential distribution)\n",
        "  times = np.random.exponential(1/lambda_rate, size=1000)\n",
        "  arrival_times = np.cumsum(times)\n",
        "\n",
        "  # Count events per minute\n",
        "  counts = np.zeros(duration)\n",
        "  for t in arrival_times:\n",
        "    if t >= duration:\n",
        "      break\n",
        "    counts[int(t)] += 1\n",
        "\n",
        "  # Plot results\n",
        "  plt.figure(figsize=(12, 6))\n",
        "\n",
        "  # Histogram of simulated data\n",
        "  plt.hist(counts, bins=range(int(max(counts))+2), density=True,\n",
        "  alpha=0.6, label='Simulated')\n",
        "\n",
        "  # Theoretical Poisson PMF\n",
        "  k = range(int(max(counts))+1)\n",
        "  pmf = poisson.pmf(k, lambda_rate)\n",
        "  plt.plot(k, pmf, 'r-', label='Theoretical')\n",
        "\n",
        "  plt.title('Simulated vs Theoretical Poisson Distribution')\n",
        "  plt.xlabel('Number of Requests per Minute')\n",
        "  plt.ylabel('Probability')\n",
        "  plt.legend()\n",
        "  plt.grid(True)\n",
        "\n",
        "  plt.show()\n",
        "\n",
        "  return counts\n",
        "\n",
        "# Run simulation\n",
        "counts = simulate_poisson_process()"
      ],
      "metadata": {
        "colab": {
          "base_uri": "https://localhost:8080/",
          "height": 564
        },
        "id": "4kA-fKblLD8s",
        "outputId": "cab350aa-d863-477a-bab9-e9f82b394828"
      },
      "execution_count": 35,
      "outputs": [
        {
          "output_type": "display_data",
          "data": {
            "text/plain": [
              "<Figure size 1200x600 with 1 Axes>"
            ],
            "image/png": "[encoded data removed]"
          },
          "metadata": {}
        }
      ]
    },
    {
      "cell_type": "markdown",
      "source": [
        "**Q5. Overdispersion (10 points)\n",
        "Explain how you would modify your analysis if you discovered that the API requests showed\n",
        "signs of overdispersion (variance > mean). What alternative distribution might be more\n",
        "appropriate, and why?**"
      ],
      "metadata": {
        "id": "XvZSH3iejkCb"
      }
    },
    {
      "cell_type": "markdown",
      "source": [
        "**(10 points) Explain how you would modify your analysis if you discovered that the API requests showed signs of overdispersion (variance > mean).**"
      ],
      "metadata": {
        "id": "Y01qImX_L7QH"
      }
    },
    {
      "cell_type": "markdown",
      "source": [
        "If the API requests show overdispersion (variance > mean):\n",
        "1. The Negative Binomial distribution would be more appropriate because:\n",
        "\n",
        "• It has an additional parameter that allows variance to exceed the mean\n",
        "\n",
        "• It can model clustering of events\n",
        "\n",
        "• It’s often used for “contagious” processes where one event increases the likelihood of another"
      ],
      "metadata": {
        "id": "A0sQgNgML2F-"
      }
    },
    {
      "cell_type": "markdown",
      "source": [
        "**2. Implementation approach:**"
      ],
      "metadata": {
        "id": "Y_ortkfHMD0v"
      }
    },
    {
      "cell_type": "code",
      "source": [
        "from scipy.stats import nbinom\n",
        "\n",
        "def fit_negative_binomial(data):\n",
        "  mean = np.mean(data)\n",
        "  var = np.var(data)\n",
        "  p = mean/var\n",
        "  n = mean*p/(1-p)\n",
        "  return n, p\n",
        "\n",
        "# Fit to data\n",
        "n, p = fit_negative_binomial(counts)\n",
        "\n",
        "# Compare distributions\n",
        "k = np.arange(max(counts))\n",
        "nb_pmf = nbinom.pmf(k, n, p)\n",
        "poisson_pmf = poisson.pmf(k, np.mean(counts))\n",
        "\n",
        "plt.plot(k, nb_pmf, label='Negative Binomial')\n",
        "plt.plot(k, poisson_pmf, label='Poisson')\n",
        "plt.legend()\n",
        "plt.show()"
      ],
      "metadata": {
        "colab": {
          "base_uri": "https://localhost:8080/",
          "height": 141
        },
        "id": "NhvmQeXVMLDj",
        "outputId": "eda30c99-db73-4a62-c43b-7e20e6da258b"
      },
      "execution_count": 36,
      "outputs": [
        {
          "output_type": "error",
          "ename": "NameError",
          "evalue": "name 'data' is not defined",
          "traceback": [
            "\u001b[0;31m---------------------------------------------------------------------------\u001b[0m",
            "\u001b[0;31mNameError\u001b[0m                                 Traceback (most recent call last)",
            "\u001b[0;32m<ipython-input-36-a9a6a43b1590>\u001b[0m in \u001b[0;36m<cell line: 1>\u001b[0;34m()\u001b[0m\n\u001b[0;32m----> 1\u001b[0;31m \u001b[0mvar\u001b[0m \u001b[0;34m=\u001b[0m \u001b[0mnp\u001b[0m\u001b[0;34m.\u001b[0m\u001b[0mvar\u001b[0m\u001b[0;34m(\u001b[0m\u001b[0mdata\u001b[0m\u001b[0;34m)\u001b[0m\u001b[0;34m\u001b[0m\u001b[0;34m\u001b[0m\u001b[0m\n\u001b[0m",
            "\u001b[0;31mNameError\u001b[0m: name 'data' is not defined"
          ]
        }
      ]
    },
    {
      "cell_type": "markdown",
      "source": [
        "**3. Real-world causes of overdispersion in API requests:**\n",
        "\n",
        "• Burst traffic patterns\n",
        "\n",
        "• Time-of-day effects\n",
        "\n",
        "• Cascading requests\n",
        "\n",
        "• Bot activity\n",
        "\n",
        "• System dependencies"
      ],
      "metadata": {
        "id": "0ygEVVt7Mkgj"
      }
    },
    {
      "cell_type": "code",
      "source": [
        "# debug\n",
        "1000*0.12*(1-0.12)"
      ],
      "metadata": {
        "colab": {
          "base_uri": "https://localhost:8080/"
        },
        "id": "HheEZ2p1BuuK",
        "outputId": "b9af7a6e-872a-4509-ccf0-607493ba12c2"
      },
      "execution_count": 12,
      "outputs": [
        {
          "output_type": "execute_result",
          "data": {
            "text/plain": [
              "105.6"
            ]
          },
          "metadata": {},
          "execution_count": 12
        }
      ]
    },
    {
      "cell_type": "code",
      "source": [
        "# (a) Define the random variable and its probability mass function\n",
        "P_X1 = 0.60\n",
        "P_X2 = 0.30\n",
        "P_X3 = 0.10\n",
        "\n",
        "# (b)\n",
        "E_X = 1*P_X1 + 2*P_X2 + 3*P_X3\n",
        "print('mean: ', E_X)\n",
        "\n",
        "# (c)\n",
        "E_X2 = 1**2*P_X1 + 2**2*P_X2 + 3**2*P_X3\n",
        "VAR_X = E_X2 - E_X**2\n",
        "print(\"variance:\", VAR_X)"
      ],
      "metadata": {
        "id": "vAdHwi3dD1lA"
      },
      "execution_count": null,
      "outputs": []
    },
    {
      "cell_type": "code",
      "source": [
        "import math\n",
        "math.comb(200, 190) * (0.95)**190 * (0.05)**10"
      ],
      "metadata": {
        "colab": {
          "base_uri": "https://localhost:8080/"
        },
        "id": "DUWIFUqTGo4s",
        "outputId": "a130851f-5c4c-4d7d-8523-179c92da69ad"
      },
      "execution_count": 25,
      "outputs": [
        {
          "output_type": "execute_result",
          "data": {
            "text/plain": [
              "0.12835737340035142"
            ]
          },
          "metadata": {},
          "execution_count": 25
        }
      ]
    }
  ]
}