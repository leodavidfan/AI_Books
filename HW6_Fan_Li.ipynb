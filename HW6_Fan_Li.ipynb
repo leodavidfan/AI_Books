{
  "nbformat": 4,
  "nbformat_minor": 0,
  "metadata": {
    "colab": {
      "provenance": [],
      "authorship_tag": "ABX9TyOWMeaJsZIZSZ4KCPXoloLh",
      "include_colab_link": true
    },
    "kernelspec": {
      "name": "python3",
      "display_name": "Python 3"
    },
    "language_info": {
      "name": "python"
    }
  },
  "cells": [
    {
      "cell_type": "markdown",
      "metadata": {
        "id": "view-in-github",
        "colab_type": "text"
      },
      "source": [
        "<a href=\"https://colab.research.google.com/github/leodavidfan/AI_Books/blob/main/HW6_Fan_Li.ipynb\" target=\"_parent\"><img src=\"https://colab.research.google.com/assets/colab-badge.svg\" alt=\"Open In Colab\"/></a>"
      ]
    },
    {
      "cell_type": "markdown",
      "source": [
        "**Assignment 6: Discrete Probability Distributions in Machine Learning**"
      ],
      "metadata": {
        "id": "bPPUAzLYdcwM"
      }
    },
    {
      "cell_type": "markdown",
      "source": [
        "**Q1. Expected Value and Variance (10 points)\n",
        "A data scientist is analyzing user behavior on a website. Each user’s session can be modeled\n",
        "as follows:\n",
        "• 60% chance of viewing only one page\n",
        "• 30% chance of viewing two pages\n",
        "• 10% chance of viewing three pages\n",
        "(a) Define the random variable and its probability mass function\n",
        "(b) Calculate the expected number of pages viewed per session\n",
        "(c) Calculate the variance in the number of pages viewed\n",
        "(d) Explain what these metrics tell us about user behavior**"
      ],
      "metadata": {
        "id": "iGe3Gb-udlTc"
      }
    },
    {
      "cell_type": "markdown",
      "source": [
        "**(a) Define the random variable and its probability mass function**"
      ],
      "metadata": {
        "id": "8YGALzdUDYuS"
      }
    },
    {
      "cell_type": "code",
      "source": [
        "P_X1 = 0.60\n",
        "P_X2 = 0.30\n",
        "P_X3 = 0.10"
      ],
      "metadata": {
        "id": "oS7WO6B4DuVA"
      },
      "execution_count": 13,
      "outputs": []
    },
    {
      "cell_type": "markdown",
      "source": [
        "**(b) Calculate the expected number of pages viewed per session**"
      ],
      "metadata": {
        "id": "LAq2Omh9Ddzv"
      }
    },
    {
      "cell_type": "code",
      "source": [
        "E_X = 1*P_X1 + 2*P_X2 + 3*P_X3\n",
        "print('mean: ', E_X)"
      ],
      "metadata": {
        "colab": {
          "base_uri": "https://localhost:8080/"
        },
        "id": "ZnRrOljiDu7_",
        "outputId": "f8788b33-afc0-4808-82fa-4d47c602531d"
      },
      "execution_count": 14,
      "outputs": [
        {
          "output_type": "stream",
          "name": "stdout",
          "text": [
            "mean:  1.5\n"
          ]
        }
      ]
    },
    {
      "cell_type": "markdown",
      "source": [
        "**(c) Calculate the variance in the number of pages viewed**"
      ],
      "metadata": {
        "id": "CarTKqBNDiDI"
      }
    },
    {
      "cell_type": "code",
      "source": [
        "E_X2 = 1**2*P_X1 + 2**2*P_X2 + 3**2*P_X3\n",
        "VAR_X = E_X2 - E_X**2\n",
        "print(\"variance:\", VAR_X)"
      ],
      "metadata": {
        "colab": {
          "base_uri": "https://localhost:8080/"
        },
        "id": "rMKMV4GoDwog",
        "outputId": "9ecc8e79-4f5b-431d-c15a-f63680e118b3"
      },
      "execution_count": 15,
      "outputs": [
        {
          "output_type": "stream",
          "name": "stdout",
          "text": [
            "variance: 0.44999999999999973\n"
          ]
        }
      ]
    },
    {
      "cell_type": "markdown",
      "source": [
        "**(d) Explain what these metrics tell us about user behavior**"
      ],
      "metadata": {
        "id": "FrDbq1CBDo_J"
      }
    },
    {
      "cell_type": "markdown",
      "source": [
        "**• The average user views 1.5 pages per session, indicating most users do not explore deeply into the website.**\n",
        "\n",
        "Correct\n",
        "Reason:\n",
        "1. According to data from Littledata, the average \"user view per session\" (also known as \"pages per session\") is around 2.6 pages per session\n",
        "\n",
        "\n",
        "**• The relatively small variance (0.45) suggests that user behavior is fairly consistent.**\n",
        "\n",
        "Correct.\n",
        "Reason:\n",
        "1. 0.45 is relatively small value for variance\n",
        "\n",
        "\n",
        "**• The distribution is right-skewed, with a small percentage of users viewing more pages.**\n",
        "\n",
        "Correct.\n",
        "Reason:\n",
        "1. Right-skewed Distribution: When the distribution has a long tail towards the right side, then it is known as a right-skewed or positive-skewed distribution.\n",
        "2. P(X=1)=0.6 > P(X=2)=0.3 > P(X=3)=0.1, long tail\n",
        "\n"
      ],
      "metadata": {
        "id": "6Ah_Rtjuhmxn"
      }
    },
    {
      "cell_type": "markdown",
      "source": [
        "**Q2. Bernoulli Distribution in A/B Testing (25 points)\n",
        "You’re running an A/B test for a new website design. The current design has a conversion\n",
        "rate of 12%.\n",
        "(a) Model this as a Bernoulli distribution and write its PMF (5 points)\n",
        "(b) If you observe 1000 visitors, what’s the expected number of conversions? (5 points)\n",
        "(c) What’s the variance in the number of conversions? (5 points)\n",
        "(d) Write a Python function that simulates this experiment 1000 times and plots the\n",
        "distribution of results (10 points)**"
      ],
      "metadata": {
        "id": "D6Vicp3Hi_o1"
      }
    },
    {
      "cell_type": "markdown",
      "source": [
        "**(a) Model this as a Bernoulli distribution and write its PMF (5 points)**\n",
        "Wrong. This is not Bernoulli distribution, but a Binominal distribution, which represents p is the discrete successful rate in a sequence of n independent experiments, while bernoulli is the individual experiment with p is the discrete successful rate for yes and no decisions.\n",
        "\n",
        "\n",
        "**(b) If you observe 1000 visitors, what’s the expected number of conversions? (5 points)**\n",
        "The expected number of conversion is the expected value. From simulation, Mean conversions: 119.19. From hand calculation, Mean conversions: n*p = 1,000 * 12% = 120. The discrepancy is introduced by computation.\n",
        "\n",
        "\n",
        "**(c) What’s the variance in the number of conversions? (5 points)**\n",
        "From hand calculation, the variance is n*p(1-p)=1,000*12%*(1-12%) = 1000*0.12*(1-0.12) = 105.6. From simulation, the variance is Variance conversions: 104.69, which is the square of std. The discrepancy is introduced by computation.\n",
        "\n",
        "\n",
        "**(d) Write a Python function that simulates this experiment 1000 times and plots the distribution of results (10 points)**\n",
        "Shown in the histgram plot.\n",
        "\n"
      ],
      "metadata": {
        "id": "OwNnotuW55Xw"
      }
    },
    {
      "cell_type": "code",
      "source": [
        "import numpy as np\n",
        "import matplotlib.pyplot as plt\n",
        "import seaborn as sns\n",
        "import random\n",
        "\n",
        "def simulate_ab_test(n_visitors=1000, conv_rate=0.12, n_simulations=1000):\n",
        "  # Set the seed value\n",
        "  np.random.seed(42)\n",
        "\n",
        "  # Run simulations\n",
        "  results = np.random.binomial(n=n_visitors, p=conv_rate, size=n_simulations)\n",
        "\n",
        "  # Plot distribution\n",
        "  plt.figure(figsize=(10, 6))\n",
        "\n",
        "  sns.histplot(results, stat='density', bins=30)\n",
        "  # Add normal approximation curve\n",
        "  x = np.linspace(results.min(), results.max(), 100)\n",
        "  y = np.exp(-(x - np.mean(results))**2 / (2 * np.var(results))) \\\n",
        "    / np.sqrt(2 * np.pi * np.var(results))\n",
        "  plt.plot(x, y, 'r-', label='Normal Approximation')\n",
        "\n",
        "  plt.title('Distribution of Conversion Counts')\n",
        "  plt.xlabel('Number of Conversions')\n",
        "  plt.ylabel('Density')\n",
        "  plt.legend()\n",
        "  plt.grid(True)\n",
        "  plt.show()\n",
        "\n",
        "  return results\n",
        "\n",
        "# Run simulation\n",
        "results = simulate_ab_test()\n",
        "print(f\"Mean conversions: {np.mean(results):.2f}\")\n",
        "print(f\"Standard deviation: {np.std(results):.2f}\")\n",
        "\n",
        "# added calculcation\n",
        "print(f\"Variance conversions: {np.std(results)**2:.2f}\")"
      ],
      "metadata": {
        "colab": {
          "base_uri": "https://localhost:8080/",
          "height": 616
        },
        "id": "OHh-xwx1jC4R",
        "outputId": "60fe934e-2284-4ad2-ca4e-12d4dee0960b"
      },
      "execution_count": 10,
      "outputs": [
        {
          "output_type": "display_data",
          "data": {
            "text/plain": [
              "<Figure size 1000x600 with 1 Axes>"
            ],
            "image/png": "[encoded data removed]"
          },
          "metadata": {}
        },
        {
          "output_type": "stream",
          "name": "stdout",
          "text": [
            "Mean conversions: 119.19\n",
            "Standard deviation: 10.23\n",
            "Variance conversions: 104.69\n"
          ]
        }
      ]
    },
    {
      "cell_type": "markdown",
      "source": [
        "**Q3. Binomial Distribution Application (25 points)\n",
        "A machine learning model correctly classifies emails as spam with 95% accuracy. You test\n",
        "it on a batch of 200 emails.\n",
        "(a) What distribution would you use to model the number of correct classifications? Justify\n",
        "your answer. (5 points)\n",
        "(b) Calculate the probability of getting exactly 190 correct classifications (5 points)\n",
        "(c) What’s the probability of getting 185 or more correct classifications? (10 points)\n",
        "(d) If you needed to guarantee 90% accuracy with 95% confidence, how many emails would\n",
        "you need to test? (5 points)**"
      ],
      "metadata": {
        "id": "cCjQ8ctNjazW"
      }
    },
    {
      "cell_type": "markdown",
      "source": [
        "**Q4. Poisson Distribution in Practice (30 points)\n",
        "A website receives an average of 8 API requests per minute.\n",
        "(a) Write the PMF for this scenario (5 points)\n",
        "(b) Calculate the probability of receiving:\n",
        "• Exactly 5 requests in a minute (5 points)\n",
        "• More than 10 requests in a minute (5 points)\n",
        "• No requests in a minute (5 points)\n",
        "(c) Write a Python function that:\n",
        "• Simulates request arrivals for 60 minutes\n",
        "• Plots the distribution of inter-arrival times\n",
        "• Compares the simulated distribution to the theoretical Poisson distribution (10\n",
        "points)**"
      ],
      "metadata": {
        "id": "N0ChSbT4jgaD"
      }
    },
    {
      "cell_type": "markdown",
      "source": [
        "**Q5. Overdispersion (10 points)\n",
        "Explain how you would modify your analysis if you discovered that the API requests showed\n",
        "signs of overdispersion (variance > mean). What alternative distribution might be more\n",
        "appropriate, and why?**"
      ],
      "metadata": {
        "id": "XvZSH3iejkCb"
      }
    },
    {
      "cell_type": "code",
      "source": [
        "# debug\n",
        "1000*0.12*(1-0.12)"
      ],
      "metadata": {
        "colab": {
          "base_uri": "https://localhost:8080/"
        },
        "id": "HheEZ2p1BuuK",
        "outputId": "b9af7a6e-872a-4509-ccf0-607493ba12c2"
      },
      "execution_count": 12,
      "outputs": [
        {
          "output_type": "execute_result",
          "data": {
            "text/plain": [
              "105.6"
            ]
          },
          "metadata": {},
          "execution_count": 12
        }
      ]
    },
    {
      "cell_type": "code",
      "source": [
        "# (a) Define the random variable and its probability mass function\n",
        "P_X1 = 0.60\n",
        "P_X2 = 0.30\n",
        "P_X3 = 0.10\n",
        "\n",
        "# (b)\n",
        "E_X = 1*P_X1 + 2*P_X2 + 3*P_X3\n",
        "print('mean: ', E_X)\n",
        "\n",
        "# (c)\n",
        "E_X2 = 1**2*P_X1 + 2**2*P_X2 + 3**2*P_X3\n",
        "VAR_X = E_X2 - E_X**2\n",
        "print(\"variance:\", VAR_X)"
      ],
      "metadata": {
        "id": "vAdHwi3dD1lA"
      },
      "execution_count": null,
      "outputs": []
    }
  ]
}